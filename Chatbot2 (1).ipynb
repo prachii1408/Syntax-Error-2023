{
  "cells": [
    {
      "cell_type": "code",
      "execution_count": null,
      "metadata": {
        "id": "-idBi53NZ13g"
      },
      "outputs": [],
      "source": [
        "import numpy as np\n",
        "import pandas as pd"
      ]
    },
    {
      "cell_type": "code",
      "execution_count": null,
      "metadata": {
        "id": "z7PPurZSZ5Cv"
      },
      "outputs": [],
      "source": [
        "import nltk"
      ]
    },
    {
      "cell_type": "code",
      "execution_count": null,
      "metadata": {
        "id": "B9hIE4wTZ8J-"
      },
      "outputs": [],
      "source": [
        "import string\n",
        "import random"
      ]
    },
    {
      "cell_type": "code",
      "execution_count": null,
      "metadata": {
        "colab": {
          "base_uri": "https://localhost:8080/"
        },
        "id": "YwlVDpgwaAq6",
        "outputId": "faaccd95-c677-42d0-c5e2-9d7aa89b9f78"
      },
      "outputs": [
        {
          "name": "stdout",
          "output_type": "stream",
          "text": [
            "Drive already mounted at /content/drive; to attempt to forcibly remount, call drive.mount(\"/content/drive\", force_remount=True).\n"
          ]
        }
      ],
      "source": [
        "from google.colab import drive\n",
        "drive.mount(\"/content/drive\")"
      ]
    },
    {
      "cell_type": "code",
      "execution_count": null,
      "metadata": {
        "id": "p35sVqNDcGp3"
      },
      "outputs": [],
      "source": [
        "f=open('/content/drive/My Drive/data/data.txt')\n",
        "raw_doc=f.read()"
      ]
    },
    {
      "cell_type": "code",
      "execution_count": null,
      "metadata": {
        "colab": {
          "base_uri": "https://localhost:8080/"
        },
        "id": "ccFEBXFKda-e",
        "outputId": "03130829-0643-4f45-8e09-a6d4e619a78c"
      },
      "outputs": [
        {
          "name": "stderr",
          "output_type": "stream",
          "text": [
            "[nltk_data] Downloading package punkt to /root/nltk_data...\n",
            "[nltk_data]   Unzipping tokenizers/punkt.zip.\n",
            "[nltk_data] Downloading package wordnet to /root/nltk_data...\n",
            "[nltk_data] Downloading package omw-1.4 to /root/nltk_data...\n"
          ]
        },
        {
          "data": {
            "text/plain": [
              "True"
            ]
          },
          "execution_count": 6,
          "metadata": {},
          "output_type": "execute_result"
        }
      ],
      "source": [
        "raw_doc=raw_doc.lower()\n",
        "nltk.download('punkt')\n",
        "nltk.download('wordnet')\n",
        "nltk.download('omw-1.4')\n"
      ]
    },
    {
      "cell_type": "code",
      "execution_count": null,
      "metadata": {
        "id": "ktozMRB6a1Z3"
      },
      "outputs": [],
      "source": [
        "sentence_tokens=nltk.sent_tokenize(raw_doc)\n",
        "word_tokens=nltk.word_tokenize(raw_doc)"
      ]
    },
    {
      "cell_type": "code",
      "execution_count": null,
      "metadata": {
        "id": "2jzqLP2oa8H7"
      },
      "outputs": [],
      "source": [
        "lemmer=nltk.stem.WordNetLemmatizer()\n",
        "def LemTokens(tokens):\n",
        "    return [lemmer.lemmatize(token) for token in tokens]\n",
        "remove_punc_dict=dict((ord(punct),None) for punct in string.punctuation)\n",
        "def LemNormalize(text):\n",
        "    return LemTokens(nltk.word_tokenize(text.lower().translate(remove_punc_dict)))"
      ]
    },
    {
      "cell_type": "code",
      "execution_count": null,
      "metadata": {
        "id": "Nm_v1Apia96e"
      },
      "outputs": [],
      "source": [
        "greet_inputs=('hello','hi','wassup','how are you','namaste')\n",
        "greet_responses=('hi','Hey','Hey There','Namaste')\n",
        "def greet(sentence):\n",
        "    for word in sentence.split():\n",
        "        if word.lower() in greet_inputs:\n",
        "            return random.choice(greet_responses)"
      ]
    },
    {
      "cell_type": "code",
      "execution_count": null,
      "metadata": {
        "id": "IjxYtDbVbBkI"
      },
      "outputs": [],
      "source": [
        "from sklearn.feature_extraction.text import TfidfVectorizer\n",
        "from sklearn.metrics.pairwise import cosine_similarity"
      ]
    },
    {
      "cell_type": "code",
      "execution_count": null,
      "metadata": {
        "id": "zn9AiMeBbEut"
      },
      "outputs": [],
      "source": [
        "def response(user_response):\n",
        "    robo1_response=''\n",
        "    TfidfVec=TfidfVectorizer(tokenizer=LemNormalize,stop_words='english')\n",
        "    tfidf=TfidfVec.fit_transform(sentence_tokens)\n",
        "    vals=cosine_similarity(tfidf[-1],tfidf)\n",
        "    idx=vals.argsort()[0][-2]\n",
        "    flat=vals.flatten()\n",
        "    flat.sort()\n",
        "    req_tfidf=flat[-2]\n",
        "    if (req_tfidf==0):\n",
        "        robo1_response=robo1_response+\" I am sorry. Unable to understand you!\"\n",
        "        return robo1_response\n",
        "    else:\n",
        "        robo1_response=robo1_response+sentence_tokens[idx]\n",
        "        return robo1_response"
      ]
    },
    {
      "cell_type": "code",
      "execution_count": null,
      "metadata": {
        "colab": {
          "base_uri": "https://localhost:8080/"
        },
        "id": "9x5eQxogbIHj",
        "outputId": "d1f7c10f-285b-482b-ee27-703833e00601"
      },
      "outputs": [
        {
          "name": "stdout",
          "output_type": "stream",
          "text": [
            "Hello! I am the Doc-Bot. Let me help you out. Please enter the symptoms. For ending conversation type bye\n",
            "Doc-Bot: Hey There\n",
            "Doc-Bot: you may also experience a mild headache, body aches or a low grade fever.\n",
            "Doc-Bot: do not take antibiotics unless specifically prescribed for you to cure the illness from which you currently suffer.\n",
            "Doc-Bot: Hey There\n",
            "Doc-Bot: Hey\n",
            "bye\n"
          ]
        }
      ],
      "source": [
        "flag=True\n",
        "print('Hello! I am the Doc-Bot. Let me help you out. Please enter the symptoms. For ending conversation type bye')\n",
        "while(flag==True):\n",
        "    user_response=input()\n",
        "    user_response=user_response.lower()\n",
        "    if(user_response!='bye'):\n",
        "        if(user_response=='thank you' or user_response=='thanks'):\n",
        "            flag=False\n",
        "            print('Doc-Bot: You are Welcome..')\n",
        "        else:\n",
        "            if(greet(user_response)!=None):\n",
        "                print('Doc-Bot: '+greet(user_response))\n",
        "            else:\n",
        "                sentence_tokens.append(user_response)\n",
        "                word_tokens=word_tokens+nltk.word_tokenize(user_response)\n",
        "                final_words=list(set(word_tokens))\n",
        "                print('Doc-Bot: ',end='')\n",
        "                print(response(user_response))\n",
        "                sentence_tokens.remove(user_response)\n",
        "    else:\n",
        "        flag=False\n",
        "        print('Bot:Goodbye')"
      ]
    },
    {
      "cell_type": "code",
      "execution_count": null,
      "metadata": {
        "id": "ag7lUV2MItGe"
      },
      "outputs": [],
      "source": [
        "import pickle"
      ]
    },
    {
      "cell_type": "code",
      "execution_count": null,
      "metadata": {
        "colab": {
          "base_uri": "https://localhost:8080/"
        },
        "id": "rWJ0Vo72BzPO",
        "outputId": "19aa0ea6-0210-4681-c1fc-c84b75c8c6d3"
      },
      "outputs": [
        {
          "name": "stdout",
          "output_type": "stream",
          "text": [
            "flu\n",
            "Doc-Bot: cold and flu\n",
            "colds and influenza (flu) are the most common illnesses among college students.\n"
          ]
        }
      ],
      "source": [
        "user_response=input()\n",
        "user_response=user_response.lower()\n",
        "sentence_tokens.append(user_response)\n",
        "word_tokens=word_tokens+nltk.word_tokenize(user_response)\n",
        "final_words=list(set(word_tokens))\n",
        "print('Doc-Bot: ',end='')\n",
        "print(response(user_response))\n",
        "sentence_tokens.remove(user_response)\n"
      ]
    },
    {
      "cell_type": "code",
      "execution_count": null,
      "metadata": {
        "id": "kPox4sGWCAmR"
      },
      "outputs": [],
      "source": []
    }
  ],
  "metadata": {
    "colab": {
      "provenance": []
    },
    "kernelspec": {
      "display_name": "Python 3",
      "name": "python3"
    },
    "language_info": {
      "name": "python"
    }
  },
  "nbformat": 4,
  "nbformat_minor": 0
}